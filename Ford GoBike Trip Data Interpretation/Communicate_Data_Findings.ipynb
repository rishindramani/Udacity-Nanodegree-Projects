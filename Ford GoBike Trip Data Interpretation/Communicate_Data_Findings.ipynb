{
 "cells": [
  {
   "cell_type": "markdown",
   "metadata": {},
   "source": [
    "# <center>  Ford GoBike Trip Data Visualization for 2018 </center>\n",
    "  \n",
    "### by Rishindra Mani Katiyar\n",
    "> Ford GoBike is a regional public bicycle sharing system in the San Francisco Bay Area, California. Beginning operation in August 2013 as Bay Area Bike Share, the Ford GoBike system currently has over 2,600 bicycles in 262 stations across San Francisco, East Bay and San Jose. On June 28, 2017, the system officially launched as Ford GoBike in a partnership with Ford Motor Company.\n",
    "\n",
    ">Over the past decade, bicycle-sharing systems are growing in variety and recognition in cities across the globe. Bicycle-sharing systems enable users to rent bicycles for brief visits, usually half-hour or less. Thanks to the increase in info technologies, it's simple for a user of the system to access a dock at intervals the system to unlock or come bicycles."
   ]
  },
  {
   "cell_type": "markdown",
   "metadata": {},
   "source": [
    "## Preliminary Data Wrangling"
   ]
  },
  {
   "cell_type": "code",
   "execution_count": 1,
   "metadata": {},
   "outputs": [],
   "source": [
    "# import all packages and set plots to be embedded inline\n",
    "import numpy as np\n",
    "import pandas as pd\n",
    "import matplotlib.pyplot as plt\n",
    "import seaborn as sb\n",
    "import os\n",
    "import glob\n",
    "\n",
    "%matplotlib inline"
   ]
  },
  {
   "cell_type": "markdown",
   "metadata": {},
   "source": [
    "I saved the csv files for each month in 2018 from the FordGoBike website in folder named **2018_dataset**\n",
    "  \n",
    "I then used the glob and os modules to store, load, and combine the files into one new file named **Ford_GoBike_data.csv**.Code used for combining all .csv files into one:\n",
    "\n",
    ">folder_name = '2018_dataset'  \n",
    ">frames = [pd.read_csv(f) for f in glob.glob(os.path.join(folder_name, '*.csv'))]\n",
    ">df = pd.concat(frames, ignore_index=True)  \n",
    ">df.to_csv('Ford_GoBike_data.csv', index=False)"
   ]
  },
  {
   "cell_type": "code",
   "execution_count": 2,
   "metadata": {},
   "outputs": [
    {
     "data": {
      "text/html": [
       "<div>\n",
       "<style scoped>\n",
       "    .dataframe tbody tr th:only-of-type {\n",
       "        vertical-align: middle;\n",
       "    }\n",
       "\n",
       "    .dataframe tbody tr th {\n",
       "        vertical-align: top;\n",
       "    }\n",
       "\n",
       "    .dataframe thead th {\n",
       "        text-align: right;\n",
       "    }\n",
       "</style>\n",
       "<table border=\"1\" class=\"dataframe\">\n",
       "  <thead>\n",
       "    <tr style=\"text-align: right;\">\n",
       "      <th></th>\n",
       "      <th>duration_sec</th>\n",
       "      <th>start_time</th>\n",
       "      <th>end_time</th>\n",
       "      <th>start_station_id</th>\n",
       "      <th>start_station_name</th>\n",
       "      <th>start_station_latitude</th>\n",
       "      <th>start_station_longitude</th>\n",
       "      <th>end_station_id</th>\n",
       "      <th>end_station_name</th>\n",
       "      <th>end_station_latitude</th>\n",
       "      <th>end_station_longitude</th>\n",
       "      <th>bike_id</th>\n",
       "      <th>user_type</th>\n",
       "      <th>bike_share_for_all_trip</th>\n",
       "    </tr>\n",
       "  </thead>\n",
       "  <tbody>\n",
       "    <tr>\n",
       "      <th>0</th>\n",
       "      <td>75284</td>\n",
       "      <td>2018-01-31 22:52:35.2390</td>\n",
       "      <td>2018-02-01 19:47:19.8240</td>\n",
       "      <td>120.0</td>\n",
       "      <td>Mission Dolores Park</td>\n",
       "      <td>37.761420</td>\n",
       "      <td>-122.426435</td>\n",
       "      <td>285.0</td>\n",
       "      <td>Webster St at O'Farrell St</td>\n",
       "      <td>37.783521</td>\n",
       "      <td>-122.431158</td>\n",
       "      <td>2765</td>\n",
       "      <td>Subscriber</td>\n",
       "      <td>No</td>\n",
       "    </tr>\n",
       "    <tr>\n",
       "      <th>1</th>\n",
       "      <td>85422</td>\n",
       "      <td>2018-01-31 16:13:34.3510</td>\n",
       "      <td>2018-02-01 15:57:17.3100</td>\n",
       "      <td>15.0</td>\n",
       "      <td>San Francisco Ferry Building (Harry Bridges Pl...</td>\n",
       "      <td>37.795392</td>\n",
       "      <td>-122.394203</td>\n",
       "      <td>15.0</td>\n",
       "      <td>San Francisco Ferry Building (Harry Bridges Pl...</td>\n",
       "      <td>37.795392</td>\n",
       "      <td>-122.394203</td>\n",
       "      <td>2815</td>\n",
       "      <td>Customer</td>\n",
       "      <td>No</td>\n",
       "    </tr>\n",
       "    <tr>\n",
       "      <th>2</th>\n",
       "      <td>71576</td>\n",
       "      <td>2018-01-31 14:23:55.8890</td>\n",
       "      <td>2018-02-01 10:16:52.1160</td>\n",
       "      <td>304.0</td>\n",
       "      <td>Jackson St at 5th St</td>\n",
       "      <td>37.348759</td>\n",
       "      <td>-121.894798</td>\n",
       "      <td>296.0</td>\n",
       "      <td>5th St at Virginia St</td>\n",
       "      <td>37.325998</td>\n",
       "      <td>-121.877120</td>\n",
       "      <td>3039</td>\n",
       "      <td>Customer</td>\n",
       "      <td>No</td>\n",
       "    </tr>\n",
       "    <tr>\n",
       "      <th>3</th>\n",
       "      <td>61076</td>\n",
       "      <td>2018-01-31 14:53:23.5620</td>\n",
       "      <td>2018-02-01 07:51:20.5000</td>\n",
       "      <td>75.0</td>\n",
       "      <td>Market St at Franklin St</td>\n",
       "      <td>37.773793</td>\n",
       "      <td>-122.421239</td>\n",
       "      <td>47.0</td>\n",
       "      <td>4th St at Harrison St</td>\n",
       "      <td>37.780955</td>\n",
       "      <td>-122.399749</td>\n",
       "      <td>321</td>\n",
       "      <td>Customer</td>\n",
       "      <td>No</td>\n",
       "    </tr>\n",
       "    <tr>\n",
       "      <th>4</th>\n",
       "      <td>39966</td>\n",
       "      <td>2018-01-31 19:52:24.6670</td>\n",
       "      <td>2018-02-01 06:58:31.0530</td>\n",
       "      <td>74.0</td>\n",
       "      <td>Laguna St at Hayes St</td>\n",
       "      <td>37.776435</td>\n",
       "      <td>-122.426244</td>\n",
       "      <td>19.0</td>\n",
       "      <td>Post St at Kearny St</td>\n",
       "      <td>37.788975</td>\n",
       "      <td>-122.403452</td>\n",
       "      <td>617</td>\n",
       "      <td>Subscriber</td>\n",
       "      <td>No</td>\n",
       "    </tr>\n",
       "  </tbody>\n",
       "</table>\n",
       "</div>"
      ],
      "text/plain": [
       "   duration_sec                start_time                  end_time  \\\n",
       "0         75284  2018-01-31 22:52:35.2390  2018-02-01 19:47:19.8240   \n",
       "1         85422  2018-01-31 16:13:34.3510  2018-02-01 15:57:17.3100   \n",
       "2         71576  2018-01-31 14:23:55.8890  2018-02-01 10:16:52.1160   \n",
       "3         61076  2018-01-31 14:53:23.5620  2018-02-01 07:51:20.5000   \n",
       "4         39966  2018-01-31 19:52:24.6670  2018-02-01 06:58:31.0530   \n",
       "\n",
       "   start_station_id                                 start_station_name  \\\n",
       "0             120.0                               Mission Dolores Park   \n",
       "1              15.0  San Francisco Ferry Building (Harry Bridges Pl...   \n",
       "2             304.0                               Jackson St at 5th St   \n",
       "3              75.0                           Market St at Franklin St   \n",
       "4              74.0                              Laguna St at Hayes St   \n",
       "\n",
       "   start_station_latitude  start_station_longitude  end_station_id  \\\n",
       "0               37.761420              -122.426435           285.0   \n",
       "1               37.795392              -122.394203            15.0   \n",
       "2               37.348759              -121.894798           296.0   \n",
       "3               37.773793              -122.421239            47.0   \n",
       "4               37.776435              -122.426244            19.0   \n",
       "\n",
       "                                    end_station_name  end_station_latitude  \\\n",
       "0                         Webster St at O'Farrell St             37.783521   \n",
       "1  San Francisco Ferry Building (Harry Bridges Pl...             37.795392   \n",
       "2                              5th St at Virginia St             37.325998   \n",
       "3                              4th St at Harrison St             37.780955   \n",
       "4                               Post St at Kearny St             37.788975   \n",
       "\n",
       "   end_station_longitude  bike_id   user_type bike_share_for_all_trip  \n",
       "0            -122.431158     2765  Subscriber                      No  \n",
       "1            -122.394203     2815    Customer                      No  \n",
       "2            -121.877120     3039    Customer                      No  \n",
       "3            -122.399749      321    Customer                      No  \n",
       "4            -122.403452      617  Subscriber                      No  "
      ]
     },
     "execution_count": 2,
     "metadata": {},
     "output_type": "execute_result"
    }
   ],
   "source": [
    "df = pd.read_csv('Ford_GoBike_data.csv')\n",
    "df.head()"
   ]
  },
  {
   "cell_type": "code",
   "execution_count": 3,
   "metadata": {},
   "outputs": [
    {
     "data": {
      "text/plain": [
       "(1863721, 14)"
      ]
     },
     "execution_count": 3,
     "metadata": {},
     "output_type": "execute_result"
    }
   ],
   "source": [
    "#checking for numbers of rows and columns\n",
    "df.shape"
   ]
  },
  {
   "cell_type": "code",
   "execution_count": 4,
   "metadata": {},
   "outputs": [
    {
     "name": "stdout",
     "output_type": "stream",
     "text": [
      "<class 'pandas.core.frame.DataFrame'>\n",
      "RangeIndex: 1863721 entries, 0 to 1863720\n",
      "Data columns (total 14 columns):\n",
      " #   Column                   Dtype  \n",
      "---  ------                   -----  \n",
      " 0   duration_sec             int64  \n",
      " 1   start_time               object \n",
      " 2   end_time                 object \n",
      " 3   start_station_id         float64\n",
      " 4   start_station_name       object \n",
      " 5   start_station_latitude   float64\n",
      " 6   start_station_longitude  float64\n",
      " 7   end_station_id           float64\n",
      " 8   end_station_name         object \n",
      " 9   end_station_latitude     float64\n",
      " 10  end_station_longitude    float64\n",
      " 11  bike_id                  int64  \n",
      " 12  user_type                object \n",
      " 13  bike_share_for_all_trip  object \n",
      "dtypes: float64(6), int64(2), object(6)\n",
      "memory usage: 199.1+ MB\n"
     ]
    }
   ],
   "source": [
    "# columns and rows information \n",
    "df.info()"
   ]
  },
  {
   "cell_type": "code",
   "execution_count": 5,
   "metadata": {},
   "outputs": [
    {
     "data": {
      "text/plain": [
       "0"
      ]
     },
     "execution_count": 5,
     "metadata": {},
     "output_type": "execute_result"
    }
   ],
   "source": [
    "#checking for duplicate items\n",
    "df.duplicated().sum()"
   ]
  },
  {
   "cell_type": "code",
   "execution_count": 6,
   "metadata": {},
   "outputs": [
    {
     "data": {
      "text/plain": [
       "duration_sec                   0\n",
       "start_time                     0\n",
       "end_time                       0\n",
       "start_station_id           11771\n",
       "start_station_name         11771\n",
       "start_station_latitude         0\n",
       "start_station_longitude        0\n",
       "end_station_id             11771\n",
       "end_station_name           11771\n",
       "end_station_latitude           0\n",
       "end_station_longitude          0\n",
       "bike_id                        0\n",
       "user_type                      0\n",
       "bike_share_for_all_trip        0\n",
       "dtype: int64"
      ]
     },
     "execution_count": 6,
     "metadata": {},
     "output_type": "execute_result"
    }
   ],
   "source": [
    "#checking for null values\n",
    "df.isnull().sum()"
   ]
  },
  {
   "cell_type": "code",
   "execution_count": 7,
   "metadata": {},
   "outputs": [
    {
     "name": "stdout",
     "output_type": "stream",
     "text": [
      "['Subscriber' 'Customer']\n",
      "['No' 'Yes']\n"
     ]
    }
   ],
   "source": [
    "print(df. user_type.unique())\n",
    "print(df.bike_share_for_all_trip.unique())"
   ]
  },
  {
   "cell_type": "markdown",
   "metadata": {},
   "source": [
    "After performing operations to inspect the data,we can conclude that the data :\n",
    "\n",
    "* Does have missing or null values\n",
    "* Does not have duplicates"
   ]
  },
  {
   "cell_type": "markdown",
   "metadata": {},
   "source": [
    "## Data Cleaning"
   ]
  },
  {
   "cell_type": "markdown",
   "metadata": {},
   "source": [
    "After Inspection I would like to,\n",
    "* Drop columns that are not important to this analysis\n",
    "* Change incorrect datatypes\n",
    "* Add new columns"
   ]
  },
  {
   "cell_type": "code",
   "execution_count": 8,
   "metadata": {},
   "outputs": [],
   "source": [
    "#Drop columns that are not important to this analysis\n",
    "df.dropna(inplace=True)"
   ]
  },
  {
   "cell_type": "code",
   "execution_count": 9,
   "metadata": {},
   "outputs": [],
   "source": [
    "#Change incorrect datatypes\n",
    "df['start_time'] = pd.to_datetime(df['start_time'])\n",
    "df['end_time'] = pd.to_datetime(df['end_time'])"
   ]
  },
  {
   "cell_type": "code",
   "execution_count": 10,
   "metadata": {},
   "outputs": [],
   "source": [
    "#Add new columns\n",
    "df['start_month'] = df['start_time'].dt.strftime('%B')\n",
    "df['start_weekday'] = df['start_time'].dt.strftime('%a')\n",
    "\n",
    "df['start_hour'] = df['start_time'].dt.hour\n",
    "df['duration_min'] = df['duration_sec']/60"
   ]
  },
  {
   "cell_type": "code",
   "execution_count": 11,
   "metadata": {},
   "outputs": [
    {
     "data": {
      "text/html": [
       "<div>\n",
       "<style scoped>\n",
       "    .dataframe tbody tr th:only-of-type {\n",
       "        vertical-align: middle;\n",
       "    }\n",
       "\n",
       "    .dataframe tbody tr th {\n",
       "        vertical-align: top;\n",
       "    }\n",
       "\n",
       "    .dataframe thead th {\n",
       "        text-align: right;\n",
       "    }\n",
       "</style>\n",
       "<table border=\"1\" class=\"dataframe\">\n",
       "  <thead>\n",
       "    <tr style=\"text-align: right;\">\n",
       "      <th></th>\n",
       "      <th>duration_sec</th>\n",
       "      <th>start_time</th>\n",
       "      <th>end_time</th>\n",
       "      <th>start_station_id</th>\n",
       "      <th>start_station_name</th>\n",
       "      <th>start_station_latitude</th>\n",
       "      <th>start_station_longitude</th>\n",
       "      <th>end_station_id</th>\n",
       "      <th>end_station_name</th>\n",
       "      <th>end_station_latitude</th>\n",
       "      <th>end_station_longitude</th>\n",
       "      <th>bike_id</th>\n",
       "      <th>user_type</th>\n",
       "      <th>bike_share_for_all_trip</th>\n",
       "      <th>start_month</th>\n",
       "      <th>start_weekday</th>\n",
       "      <th>start_hour</th>\n",
       "      <th>duration_min</th>\n",
       "    </tr>\n",
       "  </thead>\n",
       "  <tbody>\n",
       "    <tr>\n",
       "      <th>0</th>\n",
       "      <td>75284</td>\n",
       "      <td>2018-01-31 22:52:35.239</td>\n",
       "      <td>2018-02-01 19:47:19.824</td>\n",
       "      <td>120.0</td>\n",
       "      <td>Mission Dolores Park</td>\n",
       "      <td>37.761420</td>\n",
       "      <td>-122.426435</td>\n",
       "      <td>285.0</td>\n",
       "      <td>Webster St at O'Farrell St</td>\n",
       "      <td>37.783521</td>\n",
       "      <td>-122.431158</td>\n",
       "      <td>2765</td>\n",
       "      <td>Subscriber</td>\n",
       "      <td>No</td>\n",
       "      <td>January</td>\n",
       "      <td>Wed</td>\n",
       "      <td>22</td>\n",
       "      <td>1254.733333</td>\n",
       "    </tr>\n",
       "    <tr>\n",
       "      <th>1</th>\n",
       "      <td>85422</td>\n",
       "      <td>2018-01-31 16:13:34.351</td>\n",
       "      <td>2018-02-01 15:57:17.310</td>\n",
       "      <td>15.0</td>\n",
       "      <td>San Francisco Ferry Building (Harry Bridges Pl...</td>\n",
       "      <td>37.795392</td>\n",
       "      <td>-122.394203</td>\n",
       "      <td>15.0</td>\n",
       "      <td>San Francisco Ferry Building (Harry Bridges Pl...</td>\n",
       "      <td>37.795392</td>\n",
       "      <td>-122.394203</td>\n",
       "      <td>2815</td>\n",
       "      <td>Customer</td>\n",
       "      <td>No</td>\n",
       "      <td>January</td>\n",
       "      <td>Wed</td>\n",
       "      <td>16</td>\n",
       "      <td>1423.700000</td>\n",
       "    </tr>\n",
       "    <tr>\n",
       "      <th>2</th>\n",
       "      <td>71576</td>\n",
       "      <td>2018-01-31 14:23:55.889</td>\n",
       "      <td>2018-02-01 10:16:52.116</td>\n",
       "      <td>304.0</td>\n",
       "      <td>Jackson St at 5th St</td>\n",
       "      <td>37.348759</td>\n",
       "      <td>-121.894798</td>\n",
       "      <td>296.0</td>\n",
       "      <td>5th St at Virginia St</td>\n",
       "      <td>37.325998</td>\n",
       "      <td>-121.877120</td>\n",
       "      <td>3039</td>\n",
       "      <td>Customer</td>\n",
       "      <td>No</td>\n",
       "      <td>January</td>\n",
       "      <td>Wed</td>\n",
       "      <td>14</td>\n",
       "      <td>1192.933333</td>\n",
       "    </tr>\n",
       "    <tr>\n",
       "      <th>3</th>\n",
       "      <td>61076</td>\n",
       "      <td>2018-01-31 14:53:23.562</td>\n",
       "      <td>2018-02-01 07:51:20.500</td>\n",
       "      <td>75.0</td>\n",
       "      <td>Market St at Franklin St</td>\n",
       "      <td>37.773793</td>\n",
       "      <td>-122.421239</td>\n",
       "      <td>47.0</td>\n",
       "      <td>4th St at Harrison St</td>\n",
       "      <td>37.780955</td>\n",
       "      <td>-122.399749</td>\n",
       "      <td>321</td>\n",
       "      <td>Customer</td>\n",
       "      <td>No</td>\n",
       "      <td>January</td>\n",
       "      <td>Wed</td>\n",
       "      <td>14</td>\n",
       "      <td>1017.933333</td>\n",
       "    </tr>\n",
       "    <tr>\n",
       "      <th>4</th>\n",
       "      <td>39966</td>\n",
       "      <td>2018-01-31 19:52:24.667</td>\n",
       "      <td>2018-02-01 06:58:31.053</td>\n",
       "      <td>74.0</td>\n",
       "      <td>Laguna St at Hayes St</td>\n",
       "      <td>37.776435</td>\n",
       "      <td>-122.426244</td>\n",
       "      <td>19.0</td>\n",
       "      <td>Post St at Kearny St</td>\n",
       "      <td>37.788975</td>\n",
       "      <td>-122.403452</td>\n",
       "      <td>617</td>\n",
       "      <td>Subscriber</td>\n",
       "      <td>No</td>\n",
       "      <td>January</td>\n",
       "      <td>Wed</td>\n",
       "      <td>19</td>\n",
       "      <td>666.100000</td>\n",
       "    </tr>\n",
       "  </tbody>\n",
       "</table>\n",
       "</div>"
      ],
      "text/plain": [
       "   duration_sec              start_time                end_time  \\\n",
       "0         75284 2018-01-31 22:52:35.239 2018-02-01 19:47:19.824   \n",
       "1         85422 2018-01-31 16:13:34.351 2018-02-01 15:57:17.310   \n",
       "2         71576 2018-01-31 14:23:55.889 2018-02-01 10:16:52.116   \n",
       "3         61076 2018-01-31 14:53:23.562 2018-02-01 07:51:20.500   \n",
       "4         39966 2018-01-31 19:52:24.667 2018-02-01 06:58:31.053   \n",
       "\n",
       "   start_station_id                                 start_station_name  \\\n",
       "0             120.0                               Mission Dolores Park   \n",
       "1              15.0  San Francisco Ferry Building (Harry Bridges Pl...   \n",
       "2             304.0                               Jackson St at 5th St   \n",
       "3              75.0                           Market St at Franklin St   \n",
       "4              74.0                              Laguna St at Hayes St   \n",
       "\n",
       "   start_station_latitude  start_station_longitude  end_station_id  \\\n",
       "0               37.761420              -122.426435           285.0   \n",
       "1               37.795392              -122.394203            15.0   \n",
       "2               37.348759              -121.894798           296.0   \n",
       "3               37.773793              -122.421239            47.0   \n",
       "4               37.776435              -122.426244            19.0   \n",
       "\n",
       "                                    end_station_name  end_station_latitude  \\\n",
       "0                         Webster St at O'Farrell St             37.783521   \n",
       "1  San Francisco Ferry Building (Harry Bridges Pl...             37.795392   \n",
       "2                              5th St at Virginia St             37.325998   \n",
       "3                              4th St at Harrison St             37.780955   \n",
       "4                               Post St at Kearny St             37.788975   \n",
       "\n",
       "   end_station_longitude  bike_id   user_type bike_share_for_all_trip  \\\n",
       "0            -122.431158     2765  Subscriber                      No   \n",
       "1            -122.394203     2815    Customer                      No   \n",
       "2            -121.877120     3039    Customer                      No   \n",
       "3            -122.399749      321    Customer                      No   \n",
       "4            -122.403452      617  Subscriber                      No   \n",
       "\n",
       "  start_month start_weekday  start_hour  duration_min  \n",
       "0     January           Wed          22   1254.733333  \n",
       "1     January           Wed          16   1423.700000  \n",
       "2     January           Wed          14   1192.933333  \n",
       "3     January           Wed          14   1017.933333  \n",
       "4     January           Wed          19    666.100000  "
      ]
     },
     "execution_count": 11,
     "metadata": {},
     "output_type": "execute_result"
    }
   ],
   "source": [
    "df.head()"
   ]
  },
  {
   "cell_type": "code",
   "execution_count": 12,
   "metadata": {},
   "outputs": [
    {
     "data": {
      "text/plain": [
       "(1851950, 18)"
      ]
     },
     "execution_count": 12,
     "metadata": {},
     "output_type": "execute_result"
    }
   ],
   "source": [
    "df.shape"
   ]
  },
  {
   "cell_type": "code",
   "execution_count": 13,
   "metadata": {},
   "outputs": [
    {
     "name": "stdout",
     "output_type": "stream",
     "text": [
      "<class 'pandas.core.frame.DataFrame'>\n",
      "Int64Index: 1851950 entries, 0 to 1863720\n",
      "Data columns (total 18 columns):\n",
      " #   Column                   Non-Null Count    Dtype         \n",
      "---  ------                   --------------    -----         \n",
      " 0   duration_sec             1851950 non-null  int64         \n",
      " 1   start_time               1851950 non-null  datetime64[ns]\n",
      " 2   end_time                 1851950 non-null  datetime64[ns]\n",
      " 3   start_station_id         1851950 non-null  float64       \n",
      " 4   start_station_name       1851950 non-null  object        \n",
      " 5   start_station_latitude   1851950 non-null  float64       \n",
      " 6   start_station_longitude  1851950 non-null  float64       \n",
      " 7   end_station_id           1851950 non-null  float64       \n",
      " 8   end_station_name         1851950 non-null  object        \n",
      " 9   end_station_latitude     1851950 non-null  float64       \n",
      " 10  end_station_longitude    1851950 non-null  float64       \n",
      " 11  bike_id                  1851950 non-null  int64         \n",
      " 12  user_type                1851950 non-null  object        \n",
      " 13  bike_share_for_all_trip  1851950 non-null  object        \n",
      " 14  start_month              1851950 non-null  object        \n",
      " 15  start_weekday            1851950 non-null  object        \n",
      " 16  start_hour               1851950 non-null  int64         \n",
      " 17  duration_min             1851950 non-null  float64       \n",
      "dtypes: datetime64[ns](2), float64(7), int64(3), object(6)\n",
      "memory usage: 268.5+ MB\n"
     ]
    }
   ],
   "source": [
    "df.info(null_counts=True)"
   ]
  },
  {
   "cell_type": "code",
   "execution_count": 14,
   "metadata": {},
   "outputs": [
    {
     "data": {
      "text/html": [
       "<div>\n",
       "<style scoped>\n",
       "    .dataframe tbody tr th:only-of-type {\n",
       "        vertical-align: middle;\n",
       "    }\n",
       "\n",
       "    .dataframe tbody tr th {\n",
       "        vertical-align: top;\n",
       "    }\n",
       "\n",
       "    .dataframe thead th {\n",
       "        text-align: right;\n",
       "    }\n",
       "</style>\n",
       "<table border=\"1\" class=\"dataframe\">\n",
       "  <thead>\n",
       "    <tr style=\"text-align: right;\">\n",
       "      <th></th>\n",
       "      <th>duration_sec</th>\n",
       "      <th>start_station_id</th>\n",
       "      <th>start_station_latitude</th>\n",
       "      <th>start_station_longitude</th>\n",
       "      <th>end_station_id</th>\n",
       "      <th>end_station_latitude</th>\n",
       "      <th>end_station_longitude</th>\n",
       "      <th>bike_id</th>\n",
       "      <th>start_hour</th>\n",
       "      <th>duration_min</th>\n",
       "    </tr>\n",
       "  </thead>\n",
       "  <tbody>\n",
       "    <tr>\n",
       "      <th>count</th>\n",
       "      <td>1.851950e+06</td>\n",
       "      <td>1.851950e+06</td>\n",
       "      <td>1.851950e+06</td>\n",
       "      <td>1.851950e+06</td>\n",
       "      <td>1.851950e+06</td>\n",
       "      <td>1.851950e+06</td>\n",
       "      <td>1.851950e+06</td>\n",
       "      <td>1.851950e+06</td>\n",
       "      <td>1.851950e+06</td>\n",
       "      <td>1.851950e+06</td>\n",
       "    </tr>\n",
       "    <tr>\n",
       "      <th>mean</th>\n",
       "      <td>8.529994e+02</td>\n",
       "      <td>1.196744e+02</td>\n",
       "      <td>3.776904e+01</td>\n",
       "      <td>-1.223521e+02</td>\n",
       "      <td>1.181730e+02</td>\n",
       "      <td>3.776917e+01</td>\n",
       "      <td>-1.223515e+02</td>\n",
       "      <td>2.284911e+03</td>\n",
       "      <td>1.350753e+01</td>\n",
       "      <td>1.421666e+01</td>\n",
       "    </tr>\n",
       "    <tr>\n",
       "      <th>std</th>\n",
       "      <td>2.339450e+03</td>\n",
       "      <td>1.003976e+02</td>\n",
       "      <td>1.007719e-01</td>\n",
       "      <td>1.186128e-01</td>\n",
       "      <td>1.004403e+02</td>\n",
       "      <td>1.006298e-01</td>\n",
       "      <td>1.180515e-01</td>\n",
       "      <td>1.283036e+03</td>\n",
       "      <td>4.742066e+00</td>\n",
       "      <td>3.899084e+01</td>\n",
       "    </tr>\n",
       "    <tr>\n",
       "      <th>min</th>\n",
       "      <td>6.100000e+01</td>\n",
       "      <td>3.000000e+00</td>\n",
       "      <td>3.726331e+01</td>\n",
       "      <td>-1.224737e+02</td>\n",
       "      <td>3.000000e+00</td>\n",
       "      <td>3.726331e+01</td>\n",
       "      <td>-1.224737e+02</td>\n",
       "      <td>1.100000e+01</td>\n",
       "      <td>0.000000e+00</td>\n",
       "      <td>1.016667e+00</td>\n",
       "    </tr>\n",
       "    <tr>\n",
       "      <th>25%</th>\n",
       "      <td>3.500000e+02</td>\n",
       "      <td>3.300000e+01</td>\n",
       "      <td>3.777106e+01</td>\n",
       "      <td>-1.224116e+02</td>\n",
       "      <td>3.000000e+01</td>\n",
       "      <td>3.777143e+01</td>\n",
       "      <td>-1.224099e+02</td>\n",
       "      <td>1.216000e+03</td>\n",
       "      <td>9.000000e+00</td>\n",
       "      <td>5.833333e+00</td>\n",
       "    </tr>\n",
       "    <tr>\n",
       "      <th>50%</th>\n",
       "      <td>5.550000e+02</td>\n",
       "      <td>8.900000e+01</td>\n",
       "      <td>3.778107e+01</td>\n",
       "      <td>-1.223974e+02</td>\n",
       "      <td>8.800000e+01</td>\n",
       "      <td>3.778127e+01</td>\n",
       "      <td>-1.223971e+02</td>\n",
       "      <td>2.327000e+03</td>\n",
       "      <td>1.400000e+01</td>\n",
       "      <td>9.250000e+00</td>\n",
       "    </tr>\n",
       "    <tr>\n",
       "      <th>75%</th>\n",
       "      <td>8.700000e+02</td>\n",
       "      <td>1.860000e+02</td>\n",
       "      <td>3.779728e+01</td>\n",
       "      <td>-1.222894e+02</td>\n",
       "      <td>1.830000e+02</td>\n",
       "      <td>3.779728e+01</td>\n",
       "      <td>-1.222914e+02</td>\n",
       "      <td>3.312000e+03</td>\n",
       "      <td>1.700000e+01</td>\n",
       "      <td>1.450000e+01</td>\n",
       "    </tr>\n",
       "    <tr>\n",
       "      <th>max</th>\n",
       "      <td>8.636600e+04</td>\n",
       "      <td>3.810000e+02</td>\n",
       "      <td>3.788022e+01</td>\n",
       "      <td>-1.218333e+02</td>\n",
       "      <td>3.810000e+02</td>\n",
       "      <td>3.788022e+01</td>\n",
       "      <td>-1.218333e+02</td>\n",
       "      <td>6.234000e+03</td>\n",
       "      <td>2.300000e+01</td>\n",
       "      <td>1.439433e+03</td>\n",
       "    </tr>\n",
       "  </tbody>\n",
       "</table>\n",
       "</div>"
      ],
      "text/plain": [
       "       duration_sec  start_station_id  start_station_latitude  \\\n",
       "count  1.851950e+06      1.851950e+06            1.851950e+06   \n",
       "mean   8.529994e+02      1.196744e+02            3.776904e+01   \n",
       "std    2.339450e+03      1.003976e+02            1.007719e-01   \n",
       "min    6.100000e+01      3.000000e+00            3.726331e+01   \n",
       "25%    3.500000e+02      3.300000e+01            3.777106e+01   \n",
       "50%    5.550000e+02      8.900000e+01            3.778107e+01   \n",
       "75%    8.700000e+02      1.860000e+02            3.779728e+01   \n",
       "max    8.636600e+04      3.810000e+02            3.788022e+01   \n",
       "\n",
       "       start_station_longitude  end_station_id  end_station_latitude  \\\n",
       "count             1.851950e+06    1.851950e+06          1.851950e+06   \n",
       "mean             -1.223521e+02    1.181730e+02          3.776917e+01   \n",
       "std               1.186128e-01    1.004403e+02          1.006298e-01   \n",
       "min              -1.224737e+02    3.000000e+00          3.726331e+01   \n",
       "25%              -1.224116e+02    3.000000e+01          3.777143e+01   \n",
       "50%              -1.223974e+02    8.800000e+01          3.778127e+01   \n",
       "75%              -1.222894e+02    1.830000e+02          3.779728e+01   \n",
       "max              -1.218333e+02    3.810000e+02          3.788022e+01   \n",
       "\n",
       "       end_station_longitude       bike_id    start_hour  duration_min  \n",
       "count           1.851950e+06  1.851950e+06  1.851950e+06  1.851950e+06  \n",
       "mean           -1.223515e+02  2.284911e+03  1.350753e+01  1.421666e+01  \n",
       "std             1.180515e-01  1.283036e+03  4.742066e+00  3.899084e+01  \n",
       "min            -1.224737e+02  1.100000e+01  0.000000e+00  1.016667e+00  \n",
       "25%            -1.224099e+02  1.216000e+03  9.000000e+00  5.833333e+00  \n",
       "50%            -1.223971e+02  2.327000e+03  1.400000e+01  9.250000e+00  \n",
       "75%            -1.222914e+02  3.312000e+03  1.700000e+01  1.450000e+01  \n",
       "max            -1.218333e+02  6.234000e+03  2.300000e+01  1.439433e+03  "
      ]
     },
     "execution_count": 14,
     "metadata": {},
     "output_type": "execute_result"
    }
   ],
   "source": [
    "df.describe()"
   ]
  },
  {
   "cell_type": "markdown",
   "metadata": {},
   "source": [
    "### What is the structure of your dataset?\n",
    "\n",
    "The dataset was originally made up of 1863721 rows and 14 columns. After cleaning,dropping null rows and adding new columns, the dataset now consist of 1851950 rows and 18 columns.\n",
    ">The variables are as follows:\n",
    ">* Trip Duration (seconds)\n",
    ">* Start Time and Date\n",
    ">* End Time and Date\n",
    ">* Start Station ID\n",
    ">* Start Station Name\n",
    ">* Start Station Latitude\n",
    ">* Start Station Longitude\n",
    ">* End Station ID\n",
    ">* End Station Name\n",
    ">* End Station Latitude\n",
    ">* End Station Longitude\n",
    ">* Bike ID\n",
    ">* User Type (Subscriber or Customer – “Subscriber” = Member or “Customer” = Casual)\n",
    ">* Bike share for all trip\n",
    " \n",
    "I have added the following columns:\n",
    ">* Start_month                 \n",
    ">* Start_weekday                  \n",
    ">* Start_hour                                          \n",
    ">* Duration_min \n",
    "\n",
    "\n",
    "### What is/are the main feature(s) of interest in your dataset?\n",
    "\n",
    ">* User type\n",
    ">* Trip Duration\n",
    "\n",
    "### What features in the dataset do you think will help support your investigation into your feature(s) of interest?\n",
    "\n",
    ">* Trip Duration (seconds)\n",
    ">* Start Time and Date\n",
    ">* End Time and Date"
   ]
  },
  {
   "cell_type": "markdown",
   "metadata": {},
   "source": [
    "## Univariate Exploration\n",
    "\n",
    "> In this section, investigation of distribution of individual variables is done. If\n",
    "there are unusual points or outliers, take a deeper look to clean things up\n",
    "and prepare yourself to look at relationships between variables."
   ]
  },
  {
   "cell_type": "code",
   "execution_count": 15,
   "metadata": {},
   "outputs": [
    {
     "data": {
      "text/plain": [
       "Subscriber    1574991\n",
       "Customer       276959\n",
       "Name: user_type, dtype: int64"
      ]
     },
     "execution_count": 15,
     "metadata": {},
     "output_type": "execute_result"
    }
   ],
   "source": [
    "df.user_type.value_counts() "
   ]
  },
  {
   "cell_type": "code",
   "execution_count": 16,
   "metadata": {},
   "outputs": [
    {
     "data": {
      "image/png": "[encoded data removed]",
      "text/plain": [
       "<Figure size 432x288 with 1 Axes>"
      ]
     },
     "metadata": {
      "needs_background": "light"
     },
     "output_type": "display_data"
    }
   ],
   "source": [
    "# User Type of Bike Users\n",
    "users =df.groupby('user_type').size()/df.shape[0]\n",
    "base_color = sb.color_palette()[0]\n",
    "sb.barplot(users.index.values, users, color = base_color)\n",
    "plt.title('User Type of Bike Users')\n",
    "plt.xlabel('User Type')\n",
    "plt.ylabel('Count of Users')\n",
    "sb.despine();"
   ]
  },
  {
   "cell_type": "markdown",
   "metadata": {},
   "source": [
    ">From the visualization above, we can see that 85% of Ford GoBike users are Subscribers, While 15%are users are Customers.This means that most Ford GoBike users in 2018 are Subscribers."
   ]
  },
  {
   "cell_type": "code",
   "execution_count": 17,
   "metadata": {},
   "outputs": [
    {
     "data": {
      "text/plain": [
       "No     1690457\n",
       "Yes     161493\n",
       "Name: bike_share_for_all_trip, dtype: int64"
      ]
     },
     "execution_count": 17,
     "metadata": {},
     "output_type": "execute_result"
    }
   ],
   "source": [
    "df.bike_share_for_all_trip.value_counts()"
   ]
  },
  {
   "cell_type": "code",
   "execution_count": 18,
   "metadata": {},
   "outputs": [
    {
     "data": {
      "image/png": "[encoded data removed]",
      "text/plain": [
       "<Figure size 432x288 with 1 Axes>"
      ]
     },
     "metadata": {
      "needs_background": "light"
     },
     "output_type": "display_data"
    }
   ],
   "source": [
    "# Bike Share For All Trips\n",
    "bike_share =df.groupby('bike_share_for_all_trip').size()/df.shape[0]\n",
    "base_color = sb.color_palette()[0]\n",
    "sb.barplot(bike_share.index.values, bike_share, color = base_color)\n",
    "plt.title('Bike Share For All Trips')\n",
    "plt.xlabel('Bike Share')\n",
    "plt.ylabel('Count of Bike share')\n",
    "sb.despine();"
   ]
  },
  {
   "cell_type": "markdown",
   "metadata": {},
   "source": [
    ">From the visual above, we can see that 91% of Ford GoBike users did not share their bike for all trip, While 8%are users share their bike. This means that most Ford GoBike users in 2018 ride all alone."
   ]
  },
  {
   "cell_type": "code",
   "execution_count": 19,
   "metadata": {},
   "outputs": [
    {
     "data": {
      "image/png": "[encoded data removed]",
      "text/plain": [
       "<Figure size 432x288 with 1 Axes>"
      ]
     },
     "metadata": {
      "needs_background": "light"
     },
     "output_type": "display_data"
    }
   ],
   "source": [
    "# Ford Bike Weekly Usage by Users\n",
    "base_color = sb.color_palette()[0]\n",
    "weekday = ['Mon', 'Tue', 'Wed', 'Thu', 'Fri', 'Sat', 'Sun']\n",
    "sb.countplot(x='start_weekday',data=df,color=base_color, order=weekday)\n",
    "plt.title('Ford Bike Weekly Usage by Users')\n",
    "plt.ylabel('Count of users');"
   ]
  },
  {
   "cell_type": "markdown",
   "metadata": {},
   "source": [
    ">From the visualization above, we can see that in 2018 \n",
    ">* Tuesday has the highest number of users followed by Wednesday and Thursday.\n",
    ">* Saturday and Sunday has the lowest number of users.\n",
    ">* Monday to Friday has above 250000 users.\n",
    ">* This means that most users use ford bike mostly on weekdays for commuting purposes during working days. "
   ]
  },
  {
   "cell_type": "code",
   "execution_count": 20,
   "metadata": {},
   "outputs": [
    {
     "data": {
      "text/plain": [
       "October      200102\n",
       "July         196038\n",
       "June         193907\n",
       "August       189250\n",
       "September    184635\n",
       "May          179125\n",
       "November     133651\n",
       "December     131171\n",
       "April        131169\n",
       "March        111382\n",
       "February     106718\n",
       "January       94802\n",
       "Name: start_month, dtype: int64"
      ]
     },
     "execution_count": 20,
     "metadata": {},
     "output_type": "execute_result"
    }
   ],
   "source": [
    "df.start_month.value_counts()"
   ]
  },
  {
   "cell_type": "code",
   "execution_count": 21,
   "metadata": {},
   "outputs": [
    {
     "data": {
      "image/png": "[encoded data removed]",
      "text/plain": [
       "<Figure size 864x432 with 1 Axes>"
      ]
     },
     "metadata": {
      "needs_background": "light"
     },
     "output_type": "display_data"
    }
   ],
   "source": [
    "# Ford GoBike Montly Usage by Users\n",
    "base_color = sb.color_palette()[0]\n",
    "month = ['January', 'February', 'March', 'April', 'May', 'June', 'July', 'August',\n",
    "         'September', 'October', 'November', 'December']\n",
    "plt.figure(figsize=(12,6))\n",
    "sb.countplot(x='start_month',data=df,color=base_color,order=month)\n",
    "plt.xticks(rotation=30)\n",
    "plt.title('Ford Bike Montly Usage by Users');"
   ]
  },
  {
   "cell_type": "markdown",
   "metadata": {},
   "source": [
    "> From the visualization above, we can see that:\n",
    ">* October has the highest number of usage, followed by July then June, August,September.\n",
    ">* This mean that Ford bike users mostly make use of the bikes during summer which makes sense because Weather conditions have a significant effect on the bicycle Sharing system."
   ]
  },
  {
   "cell_type": "code",
   "execution_count": 22,
   "metadata": {},
   "outputs": [
    {
     "data": {
      "image/png": "[encoded data removed]",
      "text/plain": [
       "<Figure size 864x432 with 1 Axes>"
      ]
     },
     "metadata": {
      "needs_background": "light"
     },
     "output_type": "display_data"
    }
   ],
   "source": [
    "# Ford GoBike Start hour by Users\n",
    "base_color = sb.color_palette()[0]\n",
    "plt.figure(figsize=(12,6))\n",
    "sb.countplot(x='start_hour',data=df,color=base_color)\n",
    "plt.title('Ford Bike Start hour by Users');"
   ]
  },
  {
   "cell_type": "markdown",
   "metadata": {},
   "source": [
    ">From the visualization above, we can see that:\n",
    ">* Most user use the bike sharing system in the morning around 8am-9am and in the evening around 5pm-6pm.\n",
    ">* This could mean that the rush hour of the bike sharing system is between 8am-9pm and 5pm-6pm which makes sense because that is when people resume work in the US.\n",
    ">* The bike is primarily used as a means of transportation to work by users."
   ]
  },
  {
   "cell_type": "code",
   "execution_count": 23,
   "metadata": {},
   "outputs": [
    {
     "data": {
      "text/plain": [
       "count    1.851950e+06\n",
       "mean     1.421666e+01\n",
       "std      3.899084e+01\n",
       "min      1.016667e+00\n",
       "25%      5.833333e+00\n",
       "50%      9.250000e+00\n",
       "75%      1.450000e+01\n",
       "max      1.439433e+03\n",
       "Name: duration_min, dtype: float64"
      ]
     },
     "execution_count": 23,
     "metadata": {},
     "output_type": "execute_result"
    }
   ],
   "source": [
    "df.duration_min.describe()"
   ]
  },
  {
   "cell_type": "code",
   "execution_count": 24,
   "metadata": {},
   "outputs": [
    {
     "data": {
      "text/plain": [
       "14.21665616422384"
      ]
     },
     "execution_count": 24,
     "metadata": {},
     "output_type": "execute_result"
    }
   ],
   "source": [
    "df.duration_min.mean()"
   ]
  },
  {
   "cell_type": "code",
   "execution_count": 25,
   "metadata": {},
   "outputs": [
    {
     "data": {
      "image/png": "[encoded data removed]",
      "text/plain": [
       "<Figure size 432x288 with 1 Axes>"
      ]
     },
     "metadata": {
      "needs_background": "light"
     },
     "output_type": "display_data"
    }
   ],
   "source": [
    "bin_edges = np.arange(0, df['duration_min'].max()+100, 100)\n",
    "plt.hist(data = df, x = 'duration_min', bins = bin_edges);"
   ]
  },
  {
   "cell_type": "code",
   "execution_count": 26,
   "metadata": {},
   "outputs": [
    {
     "data": {
      "image/png": "[encoded data removed]",
      "text/plain": [
       "<Figure size 720x360 with 1 Axes>"
      ]
     },
     "metadata": {
      "needs_background": "light"
     },
     "output_type": "display_data"
    }
   ],
   "source": [
    "# Trip Duration in Minute\n",
    "bins_edges = np.arange(0, 35, 1)\n",
    "ticks = np.arange(0, 35, 5)\n",
    "plt.figure(figsize = [10, 5])\n",
    "plt.hist(data=df, x='duration_min', bins=bins_edges);\n",
    "plt.xticks(ticks, ticks)\n",
    "plt.xlabel('Trip Duration in Minute');\n"
   ]
  },
  {
   "cell_type": "markdown",
   "metadata": {},
   "source": [
    "> From the visualization above, we can see that\n",
    ">* Most trips are between 4 to 10minutes.\n",
    ">* The average trip takes up to 14 minutes.\n",
    ">* Users only use the Ford bike sharing system for short trips."
   ]
  },
  {
   "cell_type": "markdown",
   "metadata": {},
   "source": [
    "### Discuss the distribution(s) of your variable(s) of interest. Were there any unusual points? Did you need to perform any transformations?\n",
    "\n",
    "> For user type:\n",
    ">* we can see that 85% of Ford GoBike users are Subscribers, While 15%are users are Customers.This means that most Ford GoBike users in 2018 are Subscribers.\n",
    "\n",
    ">For bike for all trip variable:\n",
    ">* 91% of Ford GoBike users did not share their bike for all trip, While 8%are users share their bike. This means that most Ford GoBike users in 2018 ride all alone.\n",
    "\n",
    "> For start weekday variable:\n",
    ">* Tuesday has the highest number of users followed by Wednesday and Thursday.Saturday and Sunday has the lowest number of users.\n",
    ">* Monday to Friday has above 250000 users.\n",
    "\n",
    ">For start month variable:\n",
    ">* October has the highest number of usage, followed by July then June, August,September.\n",
    ">* This mean that Ford GoBike users mostly make use of the bikes during summer which makes sense because weather conditions have a significant effect on the bicycle Sharing system.\n",
    "\n",
    "> For start hour variable:\n",
    ">* Most user use the bike sharing system in the morning around 8am-9am and in the evening around 5pm-6pm.\n",
    ">* This could mean that the rush hour of the bike sharing system is between 8am-9pm and 5pm-6pm which makes sense because that is when people resume work in the US.\n",
    "\n",
    "> For duration minutes variable:\n",
    ">* Most trips are between 4 to 10minutes.\n",
    ">* The average trip takes up to 14 minutes.\n",
    ">* Users only use the Ford GoBike sharing system for short trips.\n",
    "\n",
    "\n",
    "### Of the features you investigated, were there any unusual distributions? Did you perform any operations on the data to tidy, adjust, or change the form of the data? If so, why did you do this?\n",
    "\n",
    "> During visualization, the duration minutes variable distribution was not clear. so I performed an operation using Xticks() while plotting which makes the distribution more clearer."
   ]
  },
  {
   "cell_type": "markdown",
   "metadata": {},
   "source": [
    "## Bivariate Exploration\n",
    "\n",
    "> In this section, I investigated the relationships between pairs of variables in the\n",
    "data. Make sure the variables that you cover here have been introduced in some fashion in the previous section (univariate exploration)."
   ]
  },
  {
   "cell_type": "code",
   "execution_count": 27,
   "metadata": {},
   "outputs": [
    {
     "data": {
      "image/png": "[encoded data removed]",
      "text/plain": [
       "<Figure size 432x288 with 1 Axes>"
      ]
     },
     "metadata": {
      "needs_background": "light"
     },
     "output_type": "display_data"
    }
   ],
   "source": [
    "#Start Hour of Each User Type\n",
    "sb.boxplot(data=df, x='user_type', y='start_hour',showfliers=False);\n",
    "plt.title('Start Hour of Each User Type')\n",
    "plt.xlabel('User Type');\n",
    "plt.ylabel('Start Hour');"
   ]
  },
  {
   "cell_type": "markdown",
   "metadata": {},
   "source": [
    ">Though no difference, Subscriber usage clearly peaks out on typical rush hours when people go to work in the morning and getting off work in the afternoon than Customers ."
   ]
  },
  {
   "cell_type": "code",
   "execution_count": 28,
   "metadata": {},
   "outputs": [
    {
     "data": {
      "text/plain": [
       "user_type\n",
       "Customer      31.971642\n",
       "Subscriber    11.094478\n",
       "Name: duration_min, dtype: float64"
      ]
     },
     "execution_count": 28,
     "metadata": {},
     "output_type": "execute_result"
    }
   ],
   "source": [
    "df.groupby('user_type')['duration_min'].mean()"
   ]
  },
  {
   "cell_type": "code",
   "execution_count": 29,
   "metadata": {},
   "outputs": [
    {
     "data": {
      "image/png": "[encoded data removed]",
      "text/plain": [
       "<Figure size 432x288 with 1 Axes>"
      ]
     },
     "metadata": {
      "needs_background": "light"
     },
     "output_type": "display_data"
    }
   ],
   "source": [
    "#comparing user type and duration variable\n",
    "sb.barplot(data=df, x='user_type', y='duration_min', color=base_color)\n",
    "plt.title('Duration of Each Users');\n",
    "plt.xlabel('User Type');\n",
    "plt.ylabel('Trip Duration in Minute');"
   ]
  },
  {
   "cell_type": "markdown",
   "metadata": {},
   "source": [
    ">From the visualization above, we see that customers who are just 15% of users generally rented the bikes for longer period while Subscribers mostly use the bike for short trip."
   ]
  },
  {
   "cell_type": "code",
   "execution_count": 30,
   "metadata": {},
   "outputs": [
    {
     "data": {
      "image/png": "[encoded data removed]",
      "text/plain": [
       "<Figure size 864x432 with 1 Axes>"
      ]
     },
     "metadata": {
      "needs_background": "light"
     },
     "output_type": "display_data"
    }
   ],
   "source": [
    "#relationship between start month and user type\n",
    "plt.figure(figsize=(12,6))\n",
    "sb.countplot(data=df, x='start_month', hue='user_type',order=month);\n",
    "plt.xticks(rotation=30);\n",
    "plt.title('Ford Bike System User Type by Month')\n",
    "plt.xlabel('Month');\n",
    "plt.ylabel('Count of User type');"
   ]
  },
  {
   "cell_type": "markdown",
   "metadata": {},
   "source": [
    ">From the above visualization, we can see that;\n",
    ">* Customers demand is high around summertime, reaching its peak in July. Customers are most probably tourists, or the occasional riders who comes for visit .\n",
    ">* Subscriber highest demand is from May till October, reaching it's peak in October. Subscribers are most likely riders who uses the bike to transport themselves to work."
   ]
  },
  {
   "cell_type": "code",
   "execution_count": 31,
   "metadata": {},
   "outputs": [
    {
     "data": {
      "image/png": "[encoded data removed]",
      "text/plain": [
       "<Figure size 864x432 with 1 Axes>"
      ]
     },
     "metadata": {
      "needs_background": "light"
     },
     "output_type": "display_data"
    }
   ],
   "source": [
    "#relationship between start week and user type\n",
    "plt.figure(figsize=(12,6))\n",
    "sb.countplot(data=df, x='start_weekday', hue='user_type',order=weekday);\n",
    "plt.xticks(rotation=30)\n",
    "plt.title('Relationship between start week and user type');\n",
    "plt.xlabel('Weekdays');\n",
    "plt.ylabel('Count of User Type');"
   ]
  },
  {
   "cell_type": "markdown",
   "metadata": {},
   "source": [
    ">We can see from the visualization above that;\n",
    ">* Customers have a relatively low usage of the bike share system during week days but has a high usage during weekends. \n",
    ">* Subscribers are the opposite, there is high usage on weekdays but low usage on weekends."
   ]
  },
  {
   "cell_type": "code",
   "execution_count": 32,
   "metadata": {},
   "outputs": [
    {
     "data": {
      "image/png": "[encoded data removed]",
      "text/plain": [
       "<Figure size 432x288 with 1 Axes>"
      ]
     },
     "metadata": {
      "needs_background": "light"
     },
     "output_type": "display_data"
    }
   ],
   "source": [
    "#relatinship between bike share and duration\n",
    "sb.barplot(data=df, x= 'bike_share_for_all_trip', y='duration_min',color=base_color);\n",
    "plt.title('Duration of Bike Share')\n",
    "plt.xlabel('Bike Share');\n",
    "plt.ylabel('Duration in Minutes');"
   ]
  },
  {
   "cell_type": "markdown",
   "metadata": {},
   "source": [
    ">The duration of time for bike that was not shared for all trip is more than bike that was shared for all trip "
   ]
  },
  {
   "cell_type": "code",
   "execution_count": 33,
   "metadata": {},
   "outputs": [
    {
     "data": {
      "image/png": "[encoded data removed]",
      "text/plain": [
       "<Figure size 864x432 with 1 Axes>"
      ]
     },
     "metadata": {
      "needs_background": "light"
     },
     "output_type": "display_data"
    }
   ],
   "source": [
    "plt.figure(figsize=(12,6))\n",
    "sb.countplot(data=df, x='start_hour', hue='bike_share_for_all_trip')\n",
    "plt.title('Hours of Bike Share')\n",
    "plt.xlabel('Start Hour');\n",
    "plt.ylabel('Count');"
   ]
  },
  {
   "cell_type": "markdown",
   "metadata": {},
   "source": [
    ">Though not a huge difference, users that do not share their bike have rush hour mostly between 8-9am in the morning and 5pm-6pm in the evening. while users that share their bikes have their rush hour mostly in the afternoon and evening."
   ]
  },
  {
   "cell_type": "markdown",
   "metadata": {},
   "source": [
    "### Talk about some of the relationships you observed in this part of the investigation. How did the feature(s) of interest vary with other features in the dataset?\n",
    "\n",
    "> Relationship between User type and duration of trip shows that customers generally rented the bikes for longer period while Subscribers mostly use the bike for short trip.This could mean that customers are casual riders such as tourists or users who just ride for leisure during afternoon or early evenings on weekends.Subscribers use the bike sharing system as a means of transport to work on weekdays (Mon-Fri) and especially during rush hours. \n",
    "\n",
    "### Did you observe any interesting relationships between the other features (not the main feature(s) of interest)?\n",
    "\n",
    ">* Subscribers has high usage on weekdays and low usage on weekends while customers has high usage on weekends and low usage during weekdays.\n",
    ">* Most trips was taken between 8am and 9am in the morning and between 5pm and 6pm in the evening.\n",
    ">* The highest trip taken in days of the week was on tuesday.\n",
    ">* The highest trip taken in the month of the year was on October"
   ]
  },
  {
   "cell_type": "markdown",
   "metadata": {},
   "source": [
    "## Multivariate Exploration\n",
    "> Create plots of three or more variables to investigate your data even further. Make sure that your investigations are justified, and follow from your work in the previous sections.\n",
    "  \n",
    "In this section, I created plots of three or more variables to investigate data further. "
   ]
  },
  {
   "cell_type": "code",
   "execution_count": 34,
   "metadata": {},
   "outputs": [
    {
     "data": {
      "image/png": "[encoded data removed]",
      "text/plain": [
       "<Figure size 864x432 with 1 Axes>"
      ]
     },
     "metadata": {
      "needs_background": "light"
     },
     "output_type": "display_data"
    }
   ],
   "source": [
    "#User Type Duration on Weekdays\n",
    "plt.figure(figsize=(12,6))\n",
    "sb.boxplot(x=\"start_weekday\", y=\"duration_min\", hue=\"user_type\",data=df,showfliers=False,order=weekday)\n",
    "plt.title('User Type Duration on Weekdays')\n",
    "plt.legend(loc = 'upper left');"
   ]
  },
  {
   "cell_type": "markdown",
   "metadata": {},
   "source": [
    ">We can see from the above visualization that Customers use ford bike sharing system bikes for long from mondays to sundays while Subscribers mostly use the bike for short trip on Mondays to sundays"
   ]
  },
  {
   "cell_type": "code",
   "execution_count": 35,
   "metadata": {},
   "outputs": [
    {
     "data": {
      "image/png": "[encoded data removed]",
      "text/plain": [
       "<Figure size 864x432 with 1 Axes>"
      ]
     },
     "metadata": {
      "needs_background": "light"
     },
     "output_type": "display_data"
    }
   ],
   "source": [
    "#Relationship between bike share, duration ansd weekdays\n",
    "plt.figure(figsize=(12,6))\n",
    "sb.boxplot(x=\"start_weekday\", y=\"duration_min\", hue=\"bike_share_for_all_trip\",data=df,showfliers=False,order=weekday)\n",
    "plt.title('Bike_share: Duration on Weekdays')\n",
    "plt.legend(loc = 'upper right');"
   ]
  },
  {
   "cell_type": "markdown",
   "metadata": {},
   "source": [
    ">We can see from the above visualization that Users who do not share their bike for all trip spend tend to use the bike for longer periods while users who share their bikes use the bike sharing syatem for short trip."
   ]
  },
  {
   "cell_type": "code",
   "execution_count": 36,
   "metadata": {},
   "outputs": [
    {
     "data": {
      "image/png": "[encoded data removed]",
      "text/plain": [
       "<Figure size 864x432 with 2 Axes>"
      ]
     },
     "metadata": {
      "needs_background": "light"
     },
     "output_type": "display_data"
    }
   ],
   "source": [
    "#Hourly usage during weekdays for customers\n",
    "weekcat = pd.api.types.CategoricalDtype(ordered=True, categories=weekday)\n",
    "df['start_weekday'] = df['start_weekday'].astype(weekcat)\n",
    "customers = df.query('user_type == \"Customer\"')\n",
    "ct_counts = customers.groupby(['start_weekday', 'start_hour']).size()\n",
    "ct_counts = ct_counts.reset_index(name='count')\n",
    "ct_counts = ct_counts.pivot(index='start_weekday', columns='start_hour', values='count')\n",
    "plt.figure(figsize=(12,6))\n",
    "sb.heatmap(ct_counts, cmap='coolwarm');\n",
    "plt.title('Hourly usage during weekdays for Customers');\n",
    "plt.xlabel('Hour of Day');\n",
    "plt.ylabel('Day of Week');\n"
   ]
  },
  {
   "cell_type": "markdown",
   "metadata": {},
   "source": [
    ">* Customers makes use of the bike sharing system heavily on Weekends between the hours of 11am and 5pm from saturday to sunday and lightly on weekdays from 5pm to 6pm, Monday to friday .\n",
    ">* The rush hour for the bike sharing syatem was on saturday from 1pm to 3pm."
   ]
  },
  {
   "cell_type": "code",
   "execution_count": 37,
   "metadata": {},
   "outputs": [
    {
     "data": {
      "image/png": "[encoded data removed]",
      "text/plain": [
       "<Figure size 864x432 with 2 Axes>"
      ]
     },
     "metadata": {
      "needs_background": "light"
     },
     "output_type": "display_data"
    }
   ],
   "source": [
    "#Hourly usage during weekdays for Subscriber\n",
    "customers = df.query('user_type == \"Subscriber\"')\n",
    "ct_counts = customers.groupby(['start_weekday', 'start_hour']).size()\n",
    "ct_counts = ct_counts.reset_index(name='count')\n",
    "ct_counts = ct_counts.pivot(index='start_weekday', columns='start_hour', values='count')\n",
    "plt.figure(figsize=(12,6))\n",
    "sb.heatmap(ct_counts, cmap='coolwarm');\n",
    "plt.title('Hourly usage during weekdays for Subscriber');\n",
    "plt.xlabel('Hour of Day');\n",
    "plt.ylabel('Day of Week');\n"
   ]
  },
  {
   "cell_type": "markdown",
   "metadata": {},
   "source": [
    ">* Subscribers makes use of the bike sharing system heavily on Weekdays between the hours of 8am and 9am in the morning and 5pm-6pm in the evening from Monday to Friday.\n",
    ">* The rush hour for the bike sharing system was 8am in the morning and 5pm in the afternoon."
   ]
  },
  {
   "cell_type": "markdown",
   "metadata": {},
   "source": [
    "### Talk about some of the relationships you observed in this part of the investigation. Were there features that strengthened each other in terms of looking at your feature(s) of interest?\n",
    "\n",
    "> This section essentially amplified the previous data topics of exploration through different visuals and adding in more variables compared to bivarate exploration and univarate exploration.Subscribers makes use of the bike sharing system heavily on Weekdays between the hours of 8am and 9am in the morning and 5pm-6pm in the evening from Monday to Friday because the bike sharing sytem is used as a means of transport to work for those periods.Customers makes use of the bike sharing system heavily on Weekends between the hours of 11am and 5pm from saturday to sunday and lightly on weekdays from 5pm to 6pm, Monday to friday because they are mostly tourists or visitors.\n",
    "\n",
    "### Were there any interesting or surprising interactions between features?\n",
    "\n",
    ">There are no suprising interaction between features out of the ordinary. Interactions between features supplement each other and quite make sense when looked at combined."
   ]
  }
 ],
 "metadata": {
  "kernelspec": {
   "display_name": "Python 3",
   "language": "python",
   "name": "python3"
  },
  "language_info": {
   "codemirror_mode": {
    "name": "ipython",
    "version": 3
   },
   "file_extension": ".py",
   "mimetype": "text/x-python",
   "name": "python",
   "nbconvert_exporter": "python",
   "pygments_lexer": "ipython3",
   "version": "3.7.7"
  }
 },
 "nbformat": 4,
 "nbformat_minor": 2
}
